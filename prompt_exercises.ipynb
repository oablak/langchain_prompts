{
 "cells": [
  {
   "cell_type": "code",
   "outputs": [
    {
     "name": "stdout",
     "output_type": "stream",
     "text": [
      "sk-proj-j1MrALNIxFxzPtwZePqfT3BlbkFJgeTrl4dDit3g2oqRDaL8\n"
     ]
    }
   ],
   "source": [
    "from dotenv import load_dotenv\n",
    "import os \n",
    "\n",
    "load_dotenv()\n",
    "print(os.environ.get(\"OPENAI_API_KEY\"))\n",
    "\n"
   ],
   "metadata": {
    "collapsed": false,
    "ExecuteTime": {
     "end_time": "2024-04-26T13:51:42.066593Z",
     "start_time": "2024-04-26T13:51:42.060296Z"
    }
   },
   "id": "692f46d2639e07d2",
   "execution_count": 13
  },
  {
   "cell_type": "code",
   "outputs": [
    {
     "data": {
      "text/plain": "AIMessage(content='The capital of Turkey is Ankara.', response_metadata={'token_usage': {'completion_tokens': 7, 'prompt_tokens': 12, 'total_tokens': 19}, 'model_name': 'gpt-3.5-turbo', 'system_fingerprint': 'fp_3b956da36b', 'finish_reason': 'stop', 'logprobs': None}, id='run-63f36013-adf6-482b-8ea7-07b7b5164fbc-0')"
     },
     "execution_count": 9,
     "metadata": {},
     "output_type": "execute_result"
    }
   ],
   "source": [
    "from langchain.prompts import PromptTemplate \n",
    "\n",
    "prompt = PromptTemplate.from_template(\"what is capital of {country}\")\n",
    "\n",
    "from langchain_openai import ChatOpenAI \n",
    "chat = ChatOpenAI()\n",
    "chain = prompt | chat\n",
    "\n",
    "chain.invoke({\"country\": \"turkey\"})\n"
   ],
   "metadata": {
    "collapsed": false,
    "ExecuteTime": {
     "end_time": "2024-04-26T13:50:25.474085Z",
     "start_time": "2024-04-26T13:50:23.995149Z"
    }
   },
   "id": "6fad324fbfd595fd",
   "execution_count": 9
  },
  {
   "cell_type": "code",
   "outputs": [
    {
     "data": {
      "text/plain": "'Istanbul'"
     },
     "execution_count": 15,
     "metadata": {},
     "output_type": "execute_result"
    }
   ],
   "source": [
    "\n",
    "from langchain_community.llms import HuggingFaceHub \n",
    "\n",
    "hf = HuggingFaceHub(repo_id=\"google/flan-t5-large\", model_kwargs={\"temperature\": 0.7, \"max_length\": 128})\n",
    "chain = prompt | hf \n",
    "\n",
    "chain.invoke({\"country\": \"turkey\"})"
   ],
   "metadata": {
    "collapsed": false,
    "ExecuteTime": {
     "end_time": "2024-04-26T13:53:02.578173Z",
     "start_time": "2024-04-26T13:52:47.477238Z"
    }
   },
   "id": "a58c53c38f4acdc5",
   "execution_count": 15
  },
  {
   "cell_type": "code",
   "outputs": [
    {
     "data": {
      "text/plain": "'Istanbul'"
     },
     "execution_count": 19,
     "metadata": {},
     "output_type": "execute_result"
    }
   ],
   "source": [
    "from langchain_core.output_parsers import StrOutputParser\n",
    "\n",
    "output_parser = StrOutputParser()\n",
    "\n",
    "chain = prompt | hf | output_parser\n",
    "\n",
    "chain.invoke({\"country\": \"Turkey\"})"
   ],
   "metadata": {
    "collapsed": false,
    "ExecuteTime": {
     "end_time": "2024-04-26T14:03:17.009061Z",
     "start_time": "2024-04-26T14:03:02.754118Z"
    }
   },
   "id": "b8aa7ff11b16e0a5",
   "execution_count": 19
  },
  {
   "cell_type": "code",
   "outputs": [
    {
     "data": {
      "text/plain": "'The capital of Turkey is Ankara.'"
     },
     "execution_count": 20,
     "metadata": {},
     "output_type": "execute_result"
    }
   ],
   "source": [
    "chain = prompt | chat | output_parser\n",
    "\n",
    "chain.invoke({\"country\": \"Turkey\"})"
   ],
   "metadata": {
    "collapsed": false,
    "ExecuteTime": {
     "end_time": "2024-04-26T14:03:52.140839Z",
     "start_time": "2024-04-26T14:03:51.209437Z"
    }
   },
   "id": "868f1a982e72e0f",
   "execution_count": 20
  },
  {
   "cell_type": "code",
   "outputs": [],
   "source": [],
   "metadata": {
    "collapsed": false
   },
   "id": "63d890075ef77618"
  }
 ],
 "metadata": {
  "kernelspec": {
   "display_name": "Python 3",
   "language": "python",
   "name": "python3"
  },
  "language_info": {
   "codemirror_mode": {
    "name": "ipython",
    "version": 2
   },
   "file_extension": ".py",
   "mimetype": "text/x-python",
   "name": "python",
   "nbconvert_exporter": "python",
   "pygments_lexer": "ipython2",
   "version": "2.7.6"
  }
 },
 "nbformat": 4,
 "nbformat_minor": 5
}
